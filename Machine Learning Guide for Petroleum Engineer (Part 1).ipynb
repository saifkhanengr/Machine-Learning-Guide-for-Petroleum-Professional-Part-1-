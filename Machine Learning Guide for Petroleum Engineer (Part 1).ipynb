{
 "cells": [
  {
   "cell_type": "code",
   "execution_count": 1,
   "id": "02130420",
   "metadata": {},
   "outputs": [],
   "source": [
    "import numpy as np\n",
    "import matplotlib.pyplot as plt\n",
    "import pandas as pd  \n",
    "import math, copy"
   ]
  },
  {
   "cell_type": "code",
   "execution_count": 3,
   "id": "20fe0583",
   "metadata": {},
   "outputs": [
    {
     "name": "stdout",
     "output_type": "stream",
     "text": [
      "X is [2 3 4] and Y is [11 14 17]\n"
     ]
    }
   ],
   "source": [
    "X = np.array([2,3,4])\n",
    "Y = 3*X + 5 \n",
    "print(f'X is {X} and Y is {Y}')"
   ]
  },
  {
   "cell_type": "code",
   "execution_count": 6,
   "id": "9f3c7418",
   "metadata": {},
   "outputs": [
    {
     "data": {
      "image/png": "[encoded data removed]",
      "text/plain": [
       "<Figure size 432x288 with 1 Axes>"
      ]
     },
     "metadata": {
      "needs_background": "light"
     },
     "output_type": "display_data"
    }
   ],
   "source": [
    "plt.plot(X,Y, marker='o')\n",
    "plt.xlabel(\"X\"); plt.ylabel(\"Y\"); plt.show()"
   ]
  },
  {
   "cell_type": "code",
   "execution_count": 7,
   "id": "3284b02b",
   "metadata": {},
   "outputs": [
    {
     "name": "stdout",
     "output_type": "stream",
     "text": [
      " m is 3 and alpha is 0.01\n"
     ]
    }
   ],
   "source": [
    "m = X.shape[0]\n",
    "alpha = 0.01\n",
    "print(f' m is {m} and alpha is {alpha}')"
   ]
  },
  {
   "cell_type": "code",
   "execution_count": 14,
   "id": "3973d8f2",
   "metadata": {},
   "outputs": [
    {
     "name": "stdout",
     "output_type": "stream",
     "text": [
      "current w is 0\n",
      "current b is 0\n",
      "predicted y1 is 0 and real y is 11\n",
      "predicted y2 is 0 and real y is 14\n",
      "predicted y3 is 0 and real y is 17\n",
      "cost_function is 101.0\n",
      "updated w after first jump is 0.44\n",
      "updated b after first jump is 0.14\n"
     ]
    }
   ],
   "source": [
    "w = 0\n",
    "b = 0\n",
    "print(f'current w is {w}')\n",
    "print(f'current b is {b}')\n",
    "x1 = 2\n",
    "x2 = 3\n",
    "x3 = 4\n",
    "y1 = w*x1 + b\n",
    "y2 = w*x2 + b\n",
    "y3 = w*x3 + b\n",
    "print(f'predicted y1 is {y1} and real y is {Y[0]}')\n",
    "print(f'predicted y2 is {y2} and real y is {Y[1]}')\n",
    "print(f'predicted y3 is {y3} and real y is {Y[2]}')\n",
    "loss1 = (y1 - Y[0])**2\n",
    "loss2 = (y2 - Y[1])**2\n",
    "loss3 = (y3 - Y[2])**2\n",
    "total_loss = loss1 + loss2 + loss3\n",
    "cost_fn = total_loss/(2*m)\n",
    "print(f'cost_function is {cost_fn}')\n",
    "dw1 = (w*x1 + b - Y[0])*x1\n",
    "dw2 = (w*x2 + b - Y[1])*x2\n",
    "dw3 = (w*x3 + b - Y[2])*x3\n",
    "total_dw = dw1 + dw2 + dw3\n",
    "total_dw = total_dw/m\n",
    "db1 = (b*x1 + b - Y[0])\n",
    "db2 = (b*x2 + b - Y[1])\n",
    "db3 = (b*x3 + b - Y[2])\n",
    "total_db = db1 + db2 + db3\n",
    "total_db = total_db/m\n",
    "w_updated = w - alpha*total_dw\n",
    "b_updated = b - alpha*total_db\n",
    "print(f'updated w after first jump is {w_updated}')\n",
    "print(f'updated b after first jump is {b_updated}')"
   ]
  },
  {
   "cell_type": "code",
   "execution_count": 15,
   "id": "c148bc5e",
   "metadata": {},
   "outputs": [
    {
     "name": "stdout",
     "output_type": "stream",
     "text": [
      "current w is 0.44\n",
      "current b is 0.14\n",
      "predicted y1 is 1.02 and real y is 11\n",
      "predicted y2 is 1.46 and real y is 14\n",
      "predicted y3 is 1.9 and real y is 17\n",
      "cost_function is 80.81033333333333\n",
      "updated w after 2nd jump is 0.8332666666666666\n",
      "updated b after 2nd jump is 0.2744\n"
     ]
    }
   ],
   "source": [
    "w = w_updated\n",
    "b = b_updated\n",
    "print(f'current w is {w}')\n",
    "print(f'current b is {b}')\n",
    "x1 = 2\n",
    "x2 = 3\n",
    "x3 = 4\n",
    "y1 = w*x1 + b\n",
    "y2 = w*x2 + b\n",
    "y3 = w*x3 + b\n",
    "print(f'predicted y1 is {y1} and real y is {Y[0]}')\n",
    "print(f'predicted y2 is {y2} and real y is {Y[1]}')\n",
    "print(f'predicted y3 is {y3} and real y is {Y[2]}')\n",
    "loss1 = (y1 - Y[0])**2\n",
    "loss2 = (y2 - Y[1])**2\n",
    "loss3 = (y3 - Y[2])**2\n",
    "total_loss = loss1 + loss2 + loss3\n",
    "cost_fn = total_loss/(2*m)\n",
    "print(f'cost_function is {cost_fn}')\n",
    "dw1 = (w*x1 + b - Y[0])*x1\n",
    "dw2 = (w*x2 + b - Y[1])*x2\n",
    "dw3 = (w*x3 + b - Y[2])*x3\n",
    "total_dw = dw1 + dw2 + dw3\n",
    "total_dw = total_dw/m\n",
    "db1 = (b*x1 + b - Y[0])\n",
    "db2 = (b*x2 + b - Y[1])\n",
    "db3 = (b*x3 + b - Y[2])\n",
    "total_db = db1 + db2 + db3\n",
    "total_db = total_db/m\n",
    "w_updated = w - alpha*total_dw\n",
    "b_updated = b - alpha*total_db\n",
    "print(f'updated w after 2nd jump is {w_updated}')\n",
    "print(f'updated b after 2nd jump is {b_updated}')"
   ]
  },
  {
   "cell_type": "code",
   "execution_count": 16,
   "id": "ad1ac1d1",
   "metadata": {},
   "outputs": [
    {
     "name": "stdout",
     "output_type": "stream",
     "text": [
      "current w is 0.8332666666666666\n",
      "current b is 0.2744\n",
      "predicted y1 is 1.9409333333333332 and real y is 11\n",
      "predicted y2 is 2.7741999999999996 and real y is 14\n",
      "predicted y3 is 3.6074666666666664 and real y is 17\n",
      "cost_function is 64.57420393259258\n",
      "updated w after 3rd jump is 1.1844855555555556\n",
      "updated b after 3rd jump is 0.403424\n"
     ]
    }
   ],
   "source": [
    "w = w_updated\n",
    "b = b_updated\n",
    "print(f'current w is {w}')\n",
    "print(f'current b is {b}')\n",
    "x1 = 2\n",
    "x2 = 3\n",
    "x3 = 4\n",
    "y1 = w*x1 + b\n",
    "y2 = w*x2 + b\n",
    "y3 = w*x3 + b\n",
    "print(f'predicted y1 is {y1} and real y is {Y[0]}')\n",
    "print(f'predicted y2 is {y2} and real y is {Y[1]}')\n",
    "print(f'predicted y3 is {y3} and real y is {Y[2]}')\n",
    "loss1 = (y1 - Y[0])**2\n",
    "loss2 = (y2 - Y[1])**2\n",
    "loss3 = (y3 - Y[2])**2\n",
    "total_loss = loss1 + loss2 + loss3\n",
    "cost_fn = total_loss/(2*m)\n",
    "print(f'cost_function is {cost_fn}')\n",
    "dw1 = (w*x1 + b - Y[0])*x1\n",
    "dw2 = (w*x2 + b - Y[1])*x2\n",
    "dw3 = (w*x3 + b - Y[2])*x3\n",
    "total_dw = dw1 + dw2 + dw3\n",
    "total_dw = total_dw/m\n",
    "db1 = (b*x1 + b - Y[0])\n",
    "db2 = (b*x2 + b - Y[1])\n",
    "db3 = (b*x3 + b - Y[2])\n",
    "total_db = db1 + db2 + db3\n",
    "total_db = total_db/m\n",
    "w_updated = w - alpha*total_dw\n",
    "b_updated = b - alpha*total_db\n",
    "print(f'updated w after 3rd jump is {w_updated}')\n",
    "print(f'updated b after 3rd jump is {b_updated}')"
   ]
  },
  {
   "cell_type": "code",
   "execution_count": 44,
   "id": "adf31dfc",
   "metadata": {},
   "outputs": [],
   "source": [
    "def initiliaze_parameters(X):\n",
    "    m,n = X.shape\n",
    "    initial_w = np.zeros(n)\n",
    "    initial_b = 0\n",
    "    return initial_w, initial_b"
   ]
  },
  {
   "cell_type": "code",
   "execution_count": 46,
   "id": "80e34139",
   "metadata": {},
   "outputs": [],
   "source": [
    "def compute_cost(X, Y, w, b): \n",
    "    m = X.shape[0]\n",
    "    cost = 0.0\n",
    "    for i in range(m):                                \n",
    "        f_wb_i = np.dot(X[i],w) + b \n",
    "        cost = cost + (f_wb_i - Y[i])**2 \n",
    "    cost = cost/(2*m)\n",
    "    return(np.squeeze(cost))"
   ]
  },
  {
   "cell_type": "code",
   "execution_count": 47,
   "id": "c098a9bb",
   "metadata": {},
   "outputs": [],
   "source": [
    "def compute_gradient(X, Y, w, b): \n",
    "    m,n = X.shape         \n",
    "    dj_dw = np.zeros((n,))\n",
    "    dj_db = 0\n",
    "\n",
    "    for i in range(m):                             \n",
    "        err = (np.dot(X[i], w) + b) - Y[i]                 \n",
    "        for j in range(n):                         \n",
    "            dj_dw[j] = dj_dw[j] + err * X[i, j]             \n",
    "        dj_db = dj_db + err                        \n",
    "    dj_dw = dj_dw / m                                \n",
    "    dj_db = dj_db / m  \n",
    "    return dj_db, dj_dw"
   ]
  },
  {
   "cell_type": "code",
   "execution_count": 119,
   "id": "26e6a959",
   "metadata": {},
   "outputs": [],
   "source": [
    "def gradient_descent(X, Y, w_in, b_in, compute_cost, compute_gradient, alpha, num_iters): \n",
    "\n",
    "    w = copy.deepcopy(w_in) # avoid modifying global w_in\n",
    "    # An array to store cost J and w's at each iteration primarily for graphing later\n",
    "    J_history = []\n",
    "    p_history = []\n",
    "    b = b_in\n",
    "    w = w_in\n",
    "    for i in range(num_iters):\n",
    "        # Calculate the gradient and update the parameters using gradient_function\n",
    "        dj_db,dj_dw = compute_gradient(X, Y, w , b)     \n",
    "\n",
    "        # Update Parameters\n",
    "        b = b - alpha * dj_db                            \n",
    "        w = w - alpha * dj_dw                            \n",
    "\n",
    "        # Save cost J at each iteration\n",
    "        if i % 1000 == 0 or i == num_iters - 1:\n",
    "            print(\"Cost after iteration {}: {}\".format(i, compute_cost(X, Y, w , b)))\n",
    "        if i % 100 == 0 or i == num_iters:\n",
    "            J_history.append( compute_cost(X, Y, w , b))\n",
    "            p_history.append([w,b])\n",
    " \n",
    "    return w, b, J_history #return w and J,w history for graphing"
   ]
  },
  {
   "cell_type": "code",
   "execution_count": 120,
   "id": "b0ab4c52",
   "metadata": {},
   "outputs": [],
   "source": [
    "def run_gradient_descent(X,Y,iterations=100, alpha = 0.1):\n",
    "    m,n = X.shape\n",
    "    # initialize parameters\n",
    "    initial_w, initial_b = initiliaze_parameters(X)\n",
    "    # run gradient descent\n",
    "    w_out, b_out, J_history = gradient_descent(X ,Y, initial_w, initial_b,\n",
    "                                                compute_cost, compute_gradient,alpha, iterations)\n",
    "    print(f\"w,b found by gradient descent: w: {w_out}, b: {b_out}\")\n",
    "    \n",
    "    return(w_out, b_out,J_history)"
   ]
  },
  {
   "cell_type": "code",
   "execution_count": 121,
   "id": "e7d6cac5",
   "metadata": {},
   "outputs": [
    {
     "name": "stdout",
     "output_type": "stream",
     "text": [
      "(3, 1) (3, 1)\n",
      "[[2]\n",
      " [3]\n",
      " [4]] [[11]\n",
      " [14]\n",
      " [17]]\n"
     ]
    }
   ],
   "source": [
    "X = X.reshape(-1,1)\n",
    "Y = Y.reshape(-1,1)\n",
    "print(X.shape, Y.shape)\n",
    "print(X, Y)"
   ]
  },
  {
   "cell_type": "code",
   "execution_count": 122,
   "id": "178d4e83",
   "metadata": {},
   "outputs": [
    {
     "name": "stdout",
     "output_type": "stream",
     "text": [
      "Cost after iteration 0: 80.81033333333333\n",
      "Cost after iteration 1000: 0.13422788312480993\n",
      "Cost after iteration 2000: 0.03815787702763034\n",
      "Cost after iteration 3000: 0.010847400296865798\n",
      "Cost after iteration 4000: 0.003083664563289\n",
      "Cost after iteration 4999: 0.0008777176901191567\n",
      "w,b found by gradient descent: w: [3.04982292], b: [4.84050362]\n"
     ]
    },
    {
     "data": {
      "image/png": "[encoded data removed]",
      "text/plain": [
       "<Figure size 432x288 with 1 Axes>"
      ]
     },
     "metadata": {
      "needs_background": "light"
     },
     "output_type": "display_data"
    },
    {
     "name": "stdout",
     "output_type": "stream",
     "text": [
      "y is [10.94014945 13.98997237 17.03979529]\n"
     ]
    }
   ],
   "source": [
    "model_w,model_b,J_history = run_gradient_descent(X,Y,iterations=5000, alpha = 0.01)\n",
    "\n",
    "plt.scatter(X, Y, marker='x', c='r',s = 100, label=\"Actual Value\")\n",
    "plt.scatter(X,np.dot(X,model_w) + model_b,marker='o', c='b', label=\"Predicted Value\");  plt.xlabel(\"X\"); plt.ylabel(\"y\"); plt.legend(); plt.show()\n",
    "print(f\"y is {np.dot(X,model_w) + model_b}\")"
   ]
  },
  {
   "cell_type": "code",
   "execution_count": 123,
   "id": "6a19e76e",
   "metadata": {},
   "outputs": [
    {
     "name": "stdout",
     "output_type": "stream",
     "text": [
      "(3, 1) (3, 1)\n",
      "[[13.74]\n",
      " [ 9.6 ]\n",
      " [11.66]] [[193.72]\n",
      " [105.71]\n",
      " [138.53]]\n"
     ]
    }
   ],
   "source": [
    "Porosity = np.array([13.74, 9.60, 11.66])\n",
    "Permeability = np.array([193.72, 105.71 ,138.53])\n",
    "Porosity = Porosity.reshape(-1,1)\n",
    "Permeability = Permeability.reshape(-1,1)\n",
    "print(Porosity.shape, Permeability.shape)\n",
    "print(Porosity, Permeability)\n"
   ]
  },
  {
   "cell_type": "code",
   "execution_count": 124,
   "id": "f8c038e7",
   "metadata": {},
   "outputs": [
    {
     "name": "stdout",
     "output_type": "stream",
     "text": [
      "Cost after iteration 0: 1908.8726277437536\n",
      "Cost after iteration 1000: 86.09827153060697\n",
      "Cost after iteration 2000: 61.72136819944336\n",
      "Cost after iteration 3000: 45.515848168102586\n",
      "Cost after iteration 4000: 34.74258152637736\n",
      "Cost after iteration 4999: 27.586422573433044\n",
      "w,b found by gradient descent: w: [18.14500885], b: [-64.94613812]\n"
     ]
    },
    {
     "data": {
      "image/png": "[encoded data removed]",
      "text/plain": [
       "<Figure size 432x288 with 1 Axes>"
      ]
     },
     "metadata": {
      "needs_background": "light"
     },
     "output_type": "display_data"
    },
    {
     "name": "stdout",
     "output_type": "stream",
     "text": [
      "y is [184.36628354 109.24594688 146.62466512]\n"
     ]
    }
   ],
   "source": [
    "model_w,model_b,J_history = run_gradient_descent_feng(Porosity,Permeability,iterations=5000, alpha = 0.01)\n",
    "\n",
    "plt.scatter(Porosity, Permeability, marker='x', c='r',s = 100, label=\"Actual Value\")\n",
    "plt.scatter(Porosity,np.dot(Porosity,model_w) + model_b,marker='o', c='b', label=\"Predicted Value\");  plt.xlabel(\"X\"); plt.ylabel(\"y\"); plt.legend(); plt.show()\n",
    "print(f\"y is {np.dot(Porosity,model_w) + model_b}\")"
   ]
  },
  {
   "cell_type": "code",
   "execution_count": null,
   "id": "76acc9cd",
   "metadata": {},
   "outputs": [],
   "source": []
  }
 ],
 "metadata": {
  "kernelspec": {
   "display_name": "Python 3 (ipykernel)",
   "language": "python",
   "name": "python3"
  },
  "language_info": {
   "codemirror_mode": {
    "name": "ipython",
    "version": 3
   },
   "file_extension": ".py",
   "mimetype": "text/x-python",
   "name": "python",
   "nbconvert_exporter": "python",
   "pygments_lexer": "ipython3",
   "version": "3.9.12"
  }
 },
 "nbformat": 4,
 "nbformat_minor": 5
}
